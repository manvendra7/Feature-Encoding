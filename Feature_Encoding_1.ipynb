{
  "nbformat": 4,
  "nbformat_minor": 0,
  "metadata": {
    "colab": {
      "name": "Feature_Encoding_1.ipynb",
      "provenance": [],
      "collapsed_sections": []
    },
    "kernelspec": {
      "name": "python3",
      "display_name": "Python 3"
    }
  },
  "cells": [
    {
      "cell_type": "markdown",
      "metadata": {
        "id": "4d6ULzuYAZVi",
        "colab_type": "text"
      },
      "source": [
        "##Feature Encoding"
      ]
    },
    {
      "cell_type": "markdown",
      "metadata": {
        "id": "gbVgjSNCjEou",
        "colab_type": "text"
      },
      "source": [
        "Generally in our dataset we have 2 types of features\n",
        "\n",
        "\n",
        "1.   Numerical (Integer,floats)\n",
        "2.   Categorical (Nominal, ordinal)\n",
        "\n",
        "---\n",
        "We cannot pass in categorical features in Machine Learning models. So we need to convert them into numeric features.\n",
        "\n"
      ]
    },
    {
      "cell_type": "markdown",
      "metadata": {
        "id": "2OaabEwxkaYp",
        "colab_type": "text"
      },
      "source": [
        "Categorical Variables are of 2 types Ordinal and Nominal. \n",
        "\n",
        "*   Ordinal variables has some kind order. (Good, Better, Best), (First, Second, Third)\n",
        "*   Nominal variables has no ordering between them. (Cat, Dog, Monkey), (Apple, Banana, Mango)\n",
        "\n",
        "Based on categorical variables whether they are ordinal or nominal we appply different techniques on them."
      ]
    },
    {
      "cell_type": "code",
      "metadata": {
        "id": "Wh2RXhbq148d",
        "colab_type": "code",
        "colab": {}
      },
      "source": [
        "#let's create a dataframe\n",
        "import pandas as pd\n",
        "df = pd.DataFrame ({'country' : ['India','U.S','Australia','India','Australia','India','U.S'],\n",
        "                    'Age' : [44,34,28,27,30,42,25],\n",
        "                    'Salary' : [72000,44000,35000,27000,32000,56000,45000],\n",
        "                    'Purchased' : ['yes','no','yes','yes','no','yes','no']\n",
        "                    })"
      ],
      "execution_count": 0,
      "outputs": []
    },
    {
      "cell_type": "code",
      "metadata": {
        "id": "DeiuL8b187V-",
        "colab_type": "code",
        "outputId": "1ea9f8ec-d27f-4c67-ab88-ff14906d7333",
        "colab": {
          "base_uri": "https://localhost:8080/",
          "height": 153
        }
      },
      "source": [
        "#Let's check our dataframe\n",
        "print(df)"
      ],
      "execution_count": 0,
      "outputs": [
        {
          "output_type": "stream",
          "text": [
            "     country  Age  Salary Purchased\n",
            "0      India   44   72000       yes\n",
            "1        U.S   34   44000        no\n",
            "2  Australia   28   35000       yes\n",
            "3      India   27   27000       yes\n",
            "4  Australia   30   32000        no\n",
            "5      India   42   56000       yes\n",
            "6        U.S   25   45000        no\n"
          ],
          "name": "stdout"
        }
      ]
    },
    {
      "cell_type": "code",
      "metadata": {
        "id": "nDJoxcEqCP6W",
        "colab_type": "code",
        "outputId": "b23f8286-6bf6-4c63-dbf7-129b5788079c",
        "colab": {
          "base_uri": "https://localhost:8080/",
          "height": 102
        }
      },
      "source": [
        "#check the datatypes\n",
        "df.dtypes"
      ],
      "execution_count": 0,
      "outputs": [
        {
          "output_type": "execute_result",
          "data": {
            "text/plain": [
              "country      object\n",
              "Age           int64\n",
              "Salary        int64\n",
              "Purchased    object\n",
              "dtype: object"
            ]
          },
          "metadata": {
            "tags": []
          },
          "execution_count": 3
        }
      ]
    },
    {
      "cell_type": "markdown",
      "metadata": {
        "id": "X2pW53tuAMje",
        "colab_type": "text"
      },
      "source": [
        "Here we have 2 categorical feature \n",
        "\n",
        "*   Country.\n",
        "*   Purchased.\n",
        "\n",
        "---\n",
        "\n",
        "\n",
        " Age and Salary have numeric values.\n",
        "\n"
      ]
    },
    {
      "cell_type": "markdown",
      "metadata": {
        "id": "bMjm1qJCCoKT",
        "colab_type": "text"
      },
      "source": [
        "We know it well that we cannot pass in categorical values in our models.\n"
      ]
    },
    {
      "cell_type": "markdown",
      "metadata": {
        "id": "ViUzqV9VDnrm",
        "colab_type": "text"
      },
      "source": [
        "###Label Encoding"
      ]
    },
    {
      "cell_type": "code",
      "metadata": {
        "id": "NFRufX2C_rcK",
        "colab_type": "code",
        "outputId": "5edf35ab-ac93-4a39-b184-4ca7cbb84201",
        "colab": {
          "base_uri": "https://localhost:8080/",
          "height": 34
        }
      },
      "source": [
        "df['country'].unique() #check unique "
      ],
      "execution_count": 0,
      "outputs": [
        {
          "output_type": "execute_result",
          "data": {
            "text/plain": [
              "array(['India', 'U.S', 'Australia'], dtype=object)"
            ]
          },
          "metadata": {
            "tags": []
          },
          "execution_count": 4
        }
      ]
    },
    {
      "cell_type": "markdown",
      "metadata": {
        "id": "qQH_UVopGMyO",
        "colab_type": "text"
      },
      "source": [
        "So Here we have 3 categories in country column.\n",
        "\n",
        "\n",
        "*   India\n",
        "*   U.S\n",
        "*   Australia\n",
        "\n"
      ]
    },
    {
      "cell_type": "markdown",
      "metadata": {
        "id": "bRup2PKZGoRB",
        "colab_type": "text"
      },
      "source": [
        "In label encoding different categories are given different unique values starting from 0 to (n-1). n is the number of categories. "
      ]
    },
    {
      "cell_type": "code",
      "metadata": {
        "id": "Hn72LBfYDbeL",
        "colab_type": "code",
        "colab": {}
      },
      "source": [
        "from sklearn.preprocessing import LabelEncoder #import the LabelEncoder from sklrean library\n",
        "le= LabelEncoder()    #create the instance of LabelEncoder\n",
        "\n",
        "df['country_temp'] = le.fit_transform(df['country'])   #apply LabelEncoding of country column"
      ],
      "execution_count": 0,
      "outputs": []
    },
    {
      "cell_type": "code",
      "metadata": {
        "id": "KwAFaXWZDN3G",
        "colab_type": "code",
        "outputId": "e9b2108d-c393-4e40-88ed-c35086749db0",
        "colab": {
          "base_uri": "https://localhost:8080/",
          "height": 153
        }
      },
      "source": [
        "df['country_temp']"
      ],
      "execution_count": 0,
      "outputs": [
        {
          "output_type": "execute_result",
          "data": {
            "text/plain": [
              "0    1\n",
              "1    2\n",
              "2    0\n",
              "3    1\n",
              "4    0\n",
              "5    1\n",
              "6    2\n",
              "Name: country_temp, dtype: int64"
            ]
          },
          "metadata": {
            "tags": []
          },
          "execution_count": 6
        }
      ]
    },
    {
      "cell_type": "markdown",
      "metadata": {
        "id": "1UncaxufJ5G0",
        "colab_type": "text"
      },
      "source": [
        "Here we can see that country feature has been tranformed into numeric values. Label encoding is done in alphabatical order as we can see here.\n",
        "*   Australia -----> 0\n",
        "*   India  --------> 1\n",
        "*   U.S   ---------> 2"
      ]
    },
    {
      "cell_type": "markdown",
      "metadata": {
        "id": "Ec5NUaNbLyEX",
        "colab_type": "text"
      },
      "source": [
        "### Problem With Label Encoding\n",
        "Here we have assigned numeric values i.e (0-Australia), (1-India), (2-U.S) in the same column. Problem here is that the machine learning models won't interpret these values as different labels as 0 < 1 < 2. Our model might interpret them in some order. But we don't have any ordering in our country feature. we cannot say Australia < India < U.S ."
      ]
    },
    {
      "cell_type": "markdown",
      "metadata": {
        "id": "hIbTuyMgtqnY",
        "colab_type": "text"
      },
      "source": [
        "We use One Hot encoding to overcome this problem. It is also known as nominal encoding. Here We create 3 different columns [India, Australia, U.S]. We assign 1 if that label is present in particular row otherwise we marks it as 0."
      ]
    },
    {
      "cell_type": "code",
      "metadata": {
        "id": "RkgJYPHpfl5B",
        "colab_type": "code",
        "outputId": "3820cd01-5a4b-4e86-b27a-c434a715c315",
        "colab": {
          "base_uri": "https://localhost:8080/",
          "height": 266
        }
      },
      "source": [
        "#we will use get_dummies to do One Hot encoding\n",
        "pd.get_dummies(df['country'])"
      ],
      "execution_count": 0,
      "outputs": [
        {
          "output_type": "execute_result",
          "data": {
            "text/html": [
              "<div>\n",
              "<style scoped>\n",
              "    .dataframe tbody tr th:only-of-type {\n",
              "        vertical-align: middle;\n",
              "    }\n",
              "\n",
              "    .dataframe tbody tr th {\n",
              "        vertical-align: top;\n",
              "    }\n",
              "\n",
              "    .dataframe thead th {\n",
              "        text-align: right;\n",
              "    }\n",
              "</style>\n",
              "<table border=\"1\" class=\"dataframe\">\n",
              "  <thead>\n",
              "    <tr style=\"text-align: right;\">\n",
              "      <th></th>\n",
              "      <th>Australia</th>\n",
              "      <th>India</th>\n",
              "      <th>U.S</th>\n",
              "    </tr>\n",
              "  </thead>\n",
              "  <tbody>\n",
              "    <tr>\n",
              "      <th>0</th>\n",
              "      <td>0</td>\n",
              "      <td>1</td>\n",
              "      <td>0</td>\n",
              "    </tr>\n",
              "    <tr>\n",
              "      <th>1</th>\n",
              "      <td>0</td>\n",
              "      <td>0</td>\n",
              "      <td>1</td>\n",
              "    </tr>\n",
              "    <tr>\n",
              "      <th>2</th>\n",
              "      <td>1</td>\n",
              "      <td>0</td>\n",
              "      <td>0</td>\n",
              "    </tr>\n",
              "    <tr>\n",
              "      <th>3</th>\n",
              "      <td>0</td>\n",
              "      <td>1</td>\n",
              "      <td>0</td>\n",
              "    </tr>\n",
              "    <tr>\n",
              "      <th>4</th>\n",
              "      <td>1</td>\n",
              "      <td>0</td>\n",
              "      <td>0</td>\n",
              "    </tr>\n",
              "    <tr>\n",
              "      <th>5</th>\n",
              "      <td>0</td>\n",
              "      <td>1</td>\n",
              "      <td>0</td>\n",
              "    </tr>\n",
              "    <tr>\n",
              "      <th>6</th>\n",
              "      <td>0</td>\n",
              "      <td>0</td>\n",
              "      <td>1</td>\n",
              "    </tr>\n",
              "  </tbody>\n",
              "</table>\n",
              "</div>"
            ],
            "text/plain": [
              "   Australia  India  U.S\n",
              "0          0      1    0\n",
              "1          0      0    1\n",
              "2          1      0    0\n",
              "3          0      1    0\n",
              "4          1      0    0\n",
              "5          0      1    0\n",
              "6          0      0    1"
            ]
          },
          "metadata": {
            "tags": []
          },
          "execution_count": 7
        }
      ]
    },
    {
      "cell_type": "markdown",
      "metadata": {
        "id": "O3n38tvWumVP",
        "colab_type": "text"
      },
      "source": [
        "*  Here in first row ['India'] is assigned 1 and Australia and U.S are assigned 0. \n",
        "*  Similarly in 2nd row ['U.S'] is assigned 1 and other columns are assigned 0."
      ]
    },
    {
      "cell_type": "markdown",
      "metadata": {
        "id": "-G9syo2Fvotx",
        "colab_type": "text"
      },
      "source": [
        "We can drop the first column here, it is just increasing the features.\n",
        " Reason ---- Even if we just have two columns suppose india and U.S and both are assigned 0. It is understood that when both of these labels are zero The 3rd label is automatically going to be 1."
      ]
    },
    {
      "cell_type": "code",
      "metadata": {
        "id": "zMpDlMgmfmma",
        "colab_type": "code",
        "outputId": "e246e536-e8fd-422b-e2d3-c80fa3623bd4",
        "colab": {
          "base_uri": "https://localhost:8080/",
          "height": 266
        }
      },
      "source": [
        "#Dropping the first column\n",
        "pd.get_dummies(df['country'],drop_first=True)"
      ],
      "execution_count": 0,
      "outputs": [
        {
          "output_type": "execute_result",
          "data": {
            "text/html": [
              "<div>\n",
              "<style scoped>\n",
              "    .dataframe tbody tr th:only-of-type {\n",
              "        vertical-align: middle;\n",
              "    }\n",
              "\n",
              "    .dataframe tbody tr th {\n",
              "        vertical-align: top;\n",
              "    }\n",
              "\n",
              "    .dataframe thead th {\n",
              "        text-align: right;\n",
              "    }\n",
              "</style>\n",
              "<table border=\"1\" class=\"dataframe\">\n",
              "  <thead>\n",
              "    <tr style=\"text-align: right;\">\n",
              "      <th></th>\n",
              "      <th>India</th>\n",
              "      <th>U.S</th>\n",
              "    </tr>\n",
              "  </thead>\n",
              "  <tbody>\n",
              "    <tr>\n",
              "      <th>0</th>\n",
              "      <td>1</td>\n",
              "      <td>0</td>\n",
              "    </tr>\n",
              "    <tr>\n",
              "      <th>1</th>\n",
              "      <td>0</td>\n",
              "      <td>1</td>\n",
              "    </tr>\n",
              "    <tr>\n",
              "      <th>2</th>\n",
              "      <td>0</td>\n",
              "      <td>0</td>\n",
              "    </tr>\n",
              "    <tr>\n",
              "      <th>3</th>\n",
              "      <td>1</td>\n",
              "      <td>0</td>\n",
              "    </tr>\n",
              "    <tr>\n",
              "      <th>4</th>\n",
              "      <td>0</td>\n",
              "      <td>0</td>\n",
              "    </tr>\n",
              "    <tr>\n",
              "      <th>5</th>\n",
              "      <td>1</td>\n",
              "      <td>0</td>\n",
              "    </tr>\n",
              "    <tr>\n",
              "      <th>6</th>\n",
              "      <td>0</td>\n",
              "      <td>1</td>\n",
              "    </tr>\n",
              "  </tbody>\n",
              "</table>\n",
              "</div>"
            ],
            "text/plain": [
              "   India  U.S\n",
              "0      1    0\n",
              "1      0    1\n",
              "2      0    0\n",
              "3      1    0\n",
              "4      0    0\n",
              "5      1    0\n",
              "6      0    1"
            ]
          },
          "metadata": {
            "tags": []
          },
          "execution_count": 8
        }
      ]
    },
    {
      "cell_type": "markdown",
      "metadata": {
        "id": "UM1PA8161NRG",
        "colab_type": "text"
      },
      "source": [
        "Here we have done one hot encoding only on single feature but in real world datasets there will be many categorical features. Suppose our dataset has 50 categorical features with 3 different labels in each features. In that case if we apply one hot encoding, our features will also increase. we will have 100 features. It will make our model more complex."
      ]
    },
    {
      "cell_type": "markdown",
      "metadata": {
        "id": "4S9JA4AiPpKE",
        "colab_type": "text"
      },
      "source": [
        "Based on the dataset there are different techniques that we can apply to over-come this problem of dimensionality.\n",
        "\n",
        "###Binary Encoding\n",
        "This is not intiuative like the previous ones. Here the labels are firstly encoded ordinal and then they are converted into binary codes. Then the digits from that binary string are converted into different features."
      ]
    },
    {
      "cell_type": "code",
      "metadata": {
        "id": "D1K9L0Cyfou1",
        "colab_type": "code",
        "outputId": "67ec6cb0-44fc-4d86-bbea-64da5778f640",
        "colab": {
          "base_uri": "https://localhost:8080/",
          "height": 153
        }
      },
      "source": [
        "#create 1 more column occupation here\n",
        "df['occupation'] = ['Self-employeed','Freelancer','Family-business','Data-scientist','Pensioner','Manager','Daily-wage-worker']\n",
        "print(df['occupation'])"
      ],
      "execution_count": 0,
      "outputs": [
        {
          "output_type": "stream",
          "text": [
            "0       Self-employeed\n",
            "1           Freelancer\n",
            "2      Family-business\n",
            "3       Data-scientist\n",
            "4            Pensioner\n",
            "5              Manager\n",
            "6    Daily-wage-worker\n",
            "Name: occupation, dtype: object\n"
          ],
          "name": "stdout"
        }
      ]
    },
    {
      "cell_type": "markdown",
      "metadata": {
        "id": "r0yv-4MKVXMX",
        "colab_type": "text"
      },
      "source": [
        "We have seven different categories here. And we don't have any ordering in them as well."
      ]
    },
    {
      "cell_type": "code",
      "metadata": {
        "id": "BoYRKpfdZ--3",
        "colab_type": "code",
        "outputId": "7c22a72a-045b-468c-eb88-41ed692d5536",
        "colab": {
          "base_uri": "https://localhost:8080/",
          "height": 292
        }
      },
      "source": [
        "#install category_encoders first\n",
        "!pip install category_encoders"
      ],
      "execution_count": 0,
      "outputs": [
        {
          "output_type": "stream",
          "text": [
            "Collecting category_encoders\n",
            "\u001b[?25l  Downloading https://files.pythonhosted.org/packages/a0/52/c54191ad3782de633ea3d6ee3bb2837bda0cf3bc97644bb6375cf14150a0/category_encoders-2.1.0-py2.py3-none-any.whl (100kB)\n",
            "\r\u001b[K     |███▎                            | 10kB 15.6MB/s eta 0:00:01\r\u001b[K     |██████▌                         | 20kB 1.8MB/s eta 0:00:01\r\u001b[K     |█████████▉                      | 30kB 2.6MB/s eta 0:00:01\r\u001b[K     |█████████████                   | 40kB 1.7MB/s eta 0:00:01\r\u001b[K     |████████████████▍               | 51kB 2.1MB/s eta 0:00:01\r\u001b[K     |███████████████████▋            | 61kB 2.5MB/s eta 0:00:01\r\u001b[K     |██████████████████████▉         | 71kB 2.9MB/s eta 0:00:01\r\u001b[K     |██████████████████████████▏     | 81kB 2.2MB/s eta 0:00:01\r\u001b[K     |█████████████████████████████▍  | 92kB 2.5MB/s eta 0:00:01\r\u001b[K     |████████████████████████████████| 102kB 2.1MB/s \n",
            "\u001b[?25hRequirement already satisfied: statsmodels>=0.6.1 in /usr/local/lib/python3.6/dist-packages (from category_encoders) (0.10.2)\n",
            "Requirement already satisfied: pandas>=0.21.1 in /usr/local/lib/python3.6/dist-packages (from category_encoders) (1.0.3)\n",
            "Requirement already satisfied: scipy>=0.19.0 in /usr/local/lib/python3.6/dist-packages (from category_encoders) (1.4.1)\n",
            "Requirement already satisfied: scikit-learn>=0.20.0 in /usr/local/lib/python3.6/dist-packages (from category_encoders) (0.22.2.post1)\n",
            "Requirement already satisfied: patsy>=0.4.1 in /usr/local/lib/python3.6/dist-packages (from category_encoders) (0.5.1)\n",
            "Requirement already satisfied: numpy>=1.11.3 in /usr/local/lib/python3.6/dist-packages (from category_encoders) (1.18.2)\n",
            "Requirement already satisfied: pytz>=2017.2 in /usr/local/lib/python3.6/dist-packages (from pandas>=0.21.1->category_encoders) (2018.9)\n",
            "Requirement already satisfied: python-dateutil>=2.6.1 in /usr/local/lib/python3.6/dist-packages (from pandas>=0.21.1->category_encoders) (2.8.1)\n",
            "Requirement already satisfied: joblib>=0.11 in /usr/local/lib/python3.6/dist-packages (from scikit-learn>=0.20.0->category_encoders) (0.14.1)\n",
            "Requirement already satisfied: six in /usr/local/lib/python3.6/dist-packages (from patsy>=0.4.1->category_encoders) (1.12.0)\n",
            "Installing collected packages: category-encoders\n",
            "Successfully installed category-encoders-2.1.0\n"
          ],
          "name": "stdout"
        }
      ]
    },
    {
      "cell_type": "code",
      "metadata": {
        "id": "i3FWvYZafpAd",
        "colab_type": "code",
        "outputId": "926a0b61-a7c4-4590-d734-c49438304a20",
        "colab": {
          "base_uri": "https://localhost:8080/",
          "height": 187
        }
      },
      "source": [
        "# we will use BinaryEncoder from category_encoders library to do binary encoding\n",
        "import category_encoders as ce\n",
        "encoder = ce.BinaryEncoder(cols = ['occupation'])\n",
        "df_binary = encoder.fit_transform(df)\n",
        "print(df_binary)"
      ],
      "execution_count": 0,
      "outputs": [
        {
          "output_type": "stream",
          "text": [
            "     country  Age  Salary  ... occupation_1  occupation_2  occupation_3\n",
            "0      India   44   72000  ...            0             0             1\n",
            "1        U.S   34   44000  ...            0             1             0\n",
            "2  Australia   28   35000  ...            0             1             1\n",
            "3      India   27   27000  ...            1             0             0\n",
            "4  Australia   30   32000  ...            1             0             1\n",
            "5      India   42   56000  ...            1             1             0\n",
            "6        U.S   25   45000  ...            1             1             1\n",
            "\n",
            "[7 rows x 9 columns]\n"
          ],
          "name": "stdout"
        }
      ]
    },
    {
      "cell_type": "markdown",
      "metadata": {
        "id": "bNHAhL4jbPiM",
        "colab_type": "text"
      },
      "source": [
        "We had 7 different categories in occupation if we would have used one hot encoding it would have given us 7 features. But by using Binary Encoding we have limited it to 3. Binary Encoding is very useful whin we have many categories within a single feature. It help us to reduce the dimensionality."
      ]
    },
    {
      "cell_type": "code",
      "metadata": {
        "id": "77LvpCKXfpR4",
        "colab_type": "code",
        "colab": {}
      },
      "source": [
        "'''we have seen 3 basic types feature encoding techniques here there are many more.\n",
        "              we will look at them with some practical uses and with some real world dataset'''"
      ],
      "execution_count": 0,
      "outputs": []
    }
  ]
}